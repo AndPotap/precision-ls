{
 "cells": [
  {
   "cell_type": "markdown",
   "id": "c78bcb29",
   "metadata": {},
   "source": [
    "### In this notebook, we run experiments for in-context ODEs. We compare the performance of the Transformer, BaseConv, GD, and least squares."
   ]
  },
  {
   "cell_type": "code",
   "execution_count": 1,
   "id": "56ed7cec-6e9d-4d22-81a2-d9df5a248f45",
   "metadata": {
    "tags": []
   },
   "outputs": [],
   "source": [
    "# Imports\n",
    "import sys, os\n",
    "sys.path.append(\"/scratch/precision-ls/\")\n",
    "import numpy as np\n",
    "import torch\n",
    "import matplotlib.pyplot as plt\n",
    "\n",
    "from src.models import get_model_from_run\n",
    "from src.datagen.main import get_data_sampler, get_task_sampler\n",
    "\n",
    "device = \"cuda\" if torch.cuda.is_available() else \"cpu\"\n",
    "\n",
    "# Save dir\n",
    "save_dir = \"/scratch/precision-ls/notebooks\""
   ]
  },
  {
   "cell_type": "markdown",
   "id": "ea270ace",
   "metadata": {},
   "source": [
    "### Load models"
   ]
  },
  {
   "cell_type": "code",
   "execution_count": 16,
   "id": "d8c4a76c-eba8-4773-b98e-2fc8d2046a96",
   "metadata": {
    "tags": []
   },
   "outputs": [],
   "source": [
    "# Folder containing model checkpoints\n",
    "run_dir = \"/scratch/precision-ls/models/\"\n",
    "\n",
    "# Transformer ODE model checkpoints\n",
    "run_ids = {\n",
    "    4: \"task=odesiclfinal/14c81a1c-960a-4b14-818f-092b3646175e\",\n",
    "    8: \"task=odesiclfinal/576ade63-0753-4b28-aa1d-f4b485be83fe\",\n",
    "    12: \"task=odesiclfinal/13eaab29-6a9b-4c62-8d2c-6ba5833c88b1\",\n",
    "    16: \"task=odesiclfinal/95857faa-b95a-4406-98a7-218ed76f1184\",\n",
    "    24: \"task=odesiclfinal/1fe0fc66-711a-4556-8110-df1f5a8931d9\",\n",
    "}\n",
    "\n",
    "run_paths = {key: os.path.join(run_dir, run_ids[key]) for key in run_ids.keys()}\n",
    "\n",
    "# BaseConv gradient descent model checkpoints\n",
    "gd_run_ids = {\n",
    "    \"gd\": \"task=explicitgradient/bbfcc74c-91ea-4879-9eae-0d5c32c63e61\",\n",
    "}\n",
    "\n",
    "gd_run_paths = {key: os.path.join(run_dir, gd_run_ids[key]) for key in gd_run_ids.keys()}"
   ]
  },
  {
   "cell_type": "code",
   "execution_count": 3,
   "id": "25151936-6d53-4fc9-a54b-72c42ad529de",
   "metadata": {
    "tags": []
   },
   "outputs": [],
   "source": [
    "# Eval model\n",
    "batch_size = 128\n",
    "\n",
    "def get_model(key, run_paths=run_paths):\n",
    "    model, conf = get_model_from_run(run_paths[key])\n",
    "    model = model.to(device=device)\n",
    "    print(model)\n",
    "    \n",
    "    if \"data_kwargs\" not in conf.training.keys():\n",
    "        conf.training.data_kwargs = {}\n",
    "    if \"task_kwargs\" not in conf.training.keys():\n",
    "        conf.training.task_kwargs = {}\n",
    "    \n",
    "    n_dims = conf.model.n_dims\n",
    "    \n",
    "    conf.training.data_kwargs[\"eqn_class\"] = 1\n",
    "    \n",
    "    data_sampler = get_data_sampler(conf.training.data, n_dims=n_dims, batch_size=batch_size, n_points=conf.training.curriculum.points.end, **conf.training.data_kwargs)\n",
    "    task_sampler = get_task_sampler(\n",
    "        conf.training.task,\n",
    "        n_dims=n_dims,\n",
    "        batch_size=batch_size,\n",
    "        n_points=conf.training.curriculum.points.end,\n",
    "        **conf.training.task_kwargs\n",
    "    )\n",
    "    task = task_sampler()\n",
    "    metric = task.get_training_metric()\n",
    "    eval_metric = task.get_metric()\n",
    "    \n",
    "    return model, conf, data_sampler, task, metric, eval_metric\n",
    "\n",
    "def eval_model(key):\n",
    "    model, conf, data_sampler, task, metric, eval_metric = get_model(key)\n",
    "    model = model.to(device=device)\n",
    "    \n",
    "    # Sample data\n",
    "    data_sample = data_sampler.sample(\n",
    "        batch_size=batch_size,\n",
    "        n_points=conf.training.curriculum.points.end,\n",
    "        n_dims_truncated=conf.training.curriculum.dims.end,\n",
    "    )\n",
    "\n",
    "    # Write task data\n",
    "    task_data = task.evaluate(data_sample)\n",
    "    xs, ys = task_data[\"in\"].to(device=device), task_data[\"out\"].to(device=device)\n",
    "\n",
    "    # Predict using model\n",
    "    with torch.no_grad():\n",
    "        pred = model(xs)\n",
    "    \n",
    "    # Eval\n",
    "    out = metric(pred, ys)\n",
    "    eval_out = eval_metric(pred, ys)\n",
    "    \n",
    "    return out, eval_out"
   ]
  },
  {
   "cell_type": "markdown",
   "id": "c0aa6136-63b1-47c1-b964-393945be1097",
   "metadata": {},
   "source": [
    "## Eval ODEs"
   ]
  },
  {
   "cell_type": "code",
   "execution_count": null,
   "id": "3ace2b6d-0eea-4cd7-b9ed-2542c72b14d2",
   "metadata": {
    "collapsed": true,
    "jupyter": {
     "outputs_hidden": true
    },
    "tags": []
   },
   "outputs": [],
   "source": [
    "mses = {}\n",
    "mses_25 = {}\n",
    "mses_50 = {}\n",
    "mses_75 = {}\n",
    "\n",
    "for save_key in run_paths:\n",
    "    mse, eval_out = eval_model(save_key)\n",
    "    mse_batch = torch.mean(eval_out, dim=list(range(1, len(eval_out.shape)))).detach().cpu().numpy()\n",
    "    mse_25 = np.percentile(mse_batch, 25, axis=-1)\n",
    "    mse_75 = np.percentile(mse_batch, 75, axis=-1)\n",
    "    mse_50 = np.median(mse_batch, axis=-1)\n",
    "    \n",
    "    mses[save_key] = mse\n",
    "    mses_25[save_key] = mse_25\n",
    "    mses_50[save_key] = mse_50\n",
    "    mses_75[save_key] = mse_75\n",
    "    \n",
    "nlayers = list(run_paths.keys())"
   ]
  },
  {
   "cell_type": "code",
   "execution_count": null,
   "id": "ef406ac7-81a4-40ee-be6f-b1a6e89ec45f",
   "metadata": {
    "tags": []
   },
   "outputs": [],
   "source": [
    "# Plot\n",
    "plt.figure(figsize=(12,12))\n",
    "plt.plot(nlayers, list(mses_50[nlayer] for nlayer in nlayers), marker=\"o\", color=\"black\", markersize=12, linewidth=2)\n",
    "plt.fill_between(nlayers, list(mses_25[nlayer] for nlayer in nlayers), list(mses_75[nlayer] for nlayer in nlayers), color='black', alpha=0.2)\n",
    "plt.title(\"In-context ODEs with Transformers\", fontsize=32)\n",
    "plt.xlabel(\"Number of layers\", fontsize=32)\n",
    "plt.ylabel(\"MSE\", fontsize=32)\n",
    "plt.yscale(\"log\")\n",
    "plt.grid(True, which='both', linestyle='--', linewidth=0.5)\n",
    "plt.xticks(fontsize=24)\n",
    "plt.yticks(fontsize=24)\n",
    "plt.savefig(os.path.join(save_dir, \"iclodes_attn_nlayers.png\"))\n",
    "plt.show()"
   ]
  },
  {
   "cell_type": "markdown",
   "id": "4e0280e6-4315-41bf-8ef1-c1c50046bcc7",
   "metadata": {},
   "source": [
    "### Code for evaluating out-of-distribution ODEs"
   ]
  },
  {
   "cell_type": "code",
   "execution_count": 7,
   "id": "e3ab319c-32c6-4341-b537-3cc06ff19174",
   "metadata": {
    "tags": []
   },
   "outputs": [],
   "source": [
    "def get_model_ood(key, ood_key=None, ood_factor=1):\n",
    "    model, conf = get_model_from_run(run_paths[key])\n",
    "    \n",
    "    if \"data_kwargs\" not in conf.training.keys():\n",
    "        conf.training.data_kwargs = {}\n",
    "    if \"task_kwargs\" not in conf.training.keys():\n",
    "        conf.training.task_kwargs = {}\n",
    "    \n",
    "    n_dims = conf.model.n_dims\n",
    "    \n",
    "    if ood_key:\n",
    "        conf.training.data_kwargs[ood_key] *= ood_factor\n",
    "    \n",
    "    data_sampler = get_data_sampler(conf.training.data, n_dims=n_dims, batch_size=batch_size, n_points=conf.training.curriculum.points.end, **conf.training.data_kwargs)\n",
    "    task_sampler = get_task_sampler(\n",
    "        conf.training.task,\n",
    "        n_dims=n_dims,\n",
    "        batch_size=batch_size,\n",
    "        n_points=conf.training.curriculum.points.end,\n",
    "        **conf.training.task_kwargs\n",
    "    )\n",
    "    task = task_sampler()\n",
    "    metric = task.get_training_metric()\n",
    "    eval_metric = task.get_metric()\n",
    "    \n",
    "    return model, conf, data_sampler, task, metric, eval_metric"
   ]
  },
  {
   "cell_type": "code",
   "execution_count": 8,
   "id": "afc57155-7a6c-42bf-9080-dd05f24c2a50",
   "metadata": {
    "tags": []
   },
   "outputs": [],
   "source": [
    "def eval_ood(key, ood_key=None, ood_factor=1):\n",
    "    model, conf, data_sampler, task, metric, eval_metric = get_model_ood(key, ood_key=ood_key, ood_factor=ood_factor)\n",
    "    model = model.to(device=device)\n",
    "    \n",
    "    # Sample data\n",
    "    data_sample = data_sampler.sample(\n",
    "        batch_size=batch_size,\n",
    "        n_points=conf.training.curriculum.points.end,\n",
    "        n_dims_truncated=conf.training.curriculum.dims.end,\n",
    "    )\n",
    "\n",
    "    # Write task data\n",
    "    task_data = task.evaluate(data_sample)\n",
    "    xs, ys = task_data[\"in\"].to(device=device), task_data[\"out\"].to(device=device)\n",
    "\n",
    "    # Predict using model\n",
    "    with torch.no_grad():\n",
    "        pred = model(xs)\n",
    "    \n",
    "    # Eval\n",
    "    out = metric(pred, ys)\n",
    "    eval_out = eval_metric(pred, ys)\n",
    "    \n",
    "    return out, eval_out"
   ]
  },
  {
   "cell_type": "markdown",
   "id": "b8378530-5f45-4eb1-8302-b1d2c7c7d564",
   "metadata": {},
   "source": [
    "### Out-of-distribution: forcing functions"
   ]
  },
  {
   "cell_type": "code",
   "execution_count": null,
   "id": "6cd49430-0a38-4b46-8c4a-8d0ef41b1338",
   "metadata": {
    "collapsed": true,
    "jupyter": {
     "outputs_hidden": true
    },
    "tags": []
   },
   "outputs": [],
   "source": [
    "mses = {}\n",
    "mses_25 = {}\n",
    "mses_50 = {}\n",
    "mses_75 = {}\n",
    "\n",
    "save_key = 12\n",
    "ood_factors = np.array([0.1, 0.2, 0.3, 0.5, 1, 3, 10])\n",
    "\n",
    "for ood_factor in ood_factors:\n",
    "    mse, eval_out = eval_ood(save_key, \"gp_length\", ood_factor)\n",
    "    mse_batch = torch.mean(eval_out, dim=list(range(1, len(eval_out.shape)))).detach().cpu().numpy()\n",
    "    mse_25 = np.percentile(mse_batch, 25, axis=-1)\n",
    "    mse_75 = np.percentile(mse_batch, 75, axis=-1)\n",
    "    mse_50 = np.median(mse_batch, axis=-1)\n",
    "    \n",
    "    mses[ood_factor] = mse\n",
    "    mses_25[ood_factor] = mse_25\n",
    "    mses_50[ood_factor] = mse_50\n",
    "    mses_75[ood_factor] = mse_75"
   ]
  },
  {
   "cell_type": "code",
   "execution_count": null,
   "id": "3160d42b-dffa-406b-a473-7577a86f5ae6",
   "metadata": {
    "tags": []
   },
   "outputs": [],
   "source": [
    "# Plot\n",
    "plt.figure(figsize=(12,12))\n",
    "plt.plot(ood_factors, list(mses_50[ood_factor] for ood_factor in ood_factors), marker=\"o\", color=\"black\", markersize=12, linewidth=2)\n",
    "plt.fill_between(ood_factors, list(mses_25[ood_factor] for ood_factor in ood_factors), list(mses_75[ood_factor] for ood_factor in ood_factors), color='black', alpha=0.2)\n",
    "plt.title(\"OOD Forcing Functions\", fontsize=32)\n",
    "plt.xlabel(\"GP Length Parameter\", fontsize=32)\n",
    "plt.xscale(\"log\")\n",
    "plt.ylabel(\"MSE\", fontsize=32)\n",
    "plt.yscale(\"log\")\n",
    "plt.grid(True, which='both', linestyle='--', linewidth=0.5)\n",
    "plt.xticks(fontsize=24)\n",
    "plt.yticks(fontsize=24)\n",
    "plt.savefig(os.path.join(save_dir, \"iclodes_attn_forcingfcn.png\"))\n",
    "plt.show()"
   ]
  },
  {
   "cell_type": "markdown",
   "id": "0790d1e2-1b88-4ff2-9e33-20e2dc97f2f3",
   "metadata": {},
   "source": [
    "### Out-of-distribution: ODE parameters"
   ]
  },
  {
   "cell_type": "code",
   "execution_count": null,
   "id": "7853084a-2832-4cd2-9876-989738815ad7",
   "metadata": {
    "collapsed": true,
    "jupyter": {
     "outputs_hidden": true
    },
    "tags": []
   },
   "outputs": [],
   "source": [
    "mses = {}\n",
    "mses_25 = {}\n",
    "mses_50 = {}\n",
    "mses_75 = {}\n",
    "\n",
    "save_key = 12\n",
    "ood_factors = np.array([1/16, 1/4, 1, 4, 16])\n",
    "\n",
    "for ood_factor in ood_factors:\n",
    "    mse, eval_out = eval_ood(save_key, \"operator_scale\", ood_factor)\n",
    "    mse_batch = torch.mean(eval_out, dim=list(range(1, len(eval_out.shape)))).detach().cpu().numpy()\n",
    "    mse_25 = np.percentile(mse_batch, 25, axis=-1)\n",
    "    mse_75 = np.percentile(mse_batch, 75, axis=-1)\n",
    "    mse_50 = np.median(mse_batch, axis=-1)\n",
    "    \n",
    "    mses[ood_factor] = mse\n",
    "    mses_25[ood_factor] = mse_25\n",
    "    mses_50[ood_factor] = mse_50\n",
    "    mses_75[ood_factor] = mse_75"
   ]
  },
  {
   "cell_type": "code",
   "execution_count": null,
   "id": "b6b43f35-a070-4e52-ab84-b04f88416cb6",
   "metadata": {
    "tags": []
   },
   "outputs": [],
   "source": [
    "# Plot\n",
    "plt.figure(figsize=(12,12))\n",
    "plt.plot(0.1*ood_factors, list(mses_50[ood_factor] for ood_factor in ood_factors), marker=\"o\", color=\"black\", markersize=12, linewidth=2)\n",
    "plt.fill_between(0.1*ood_factors, list(mses_25[ood_factor] for ood_factor in ood_factors), list(mses_75[ood_factor] for ood_factor in ood_factors), color='black', alpha=0.2)\n",
    "plt.title(\"OOD ODE Parameters\", fontsize=32)\n",
    "plt.xlabel(\"ODE Parameter Scale\", fontsize=32)\n",
    "plt.xscale(\"log\")\n",
    "plt.ylabel(\"MSE\", fontsize=32)\n",
    "plt.yscale(\"log\")\n",
    "plt.grid(True, which='both', linestyle='--', linewidth=0.5)\n",
    "plt.xticks(fontsize=24)\n",
    "plt.yticks(fontsize=24)\n",
    "plt.savefig(os.path.join(save_dir, \"iclodes_attn_odeparams.png\"))\n",
    "plt.show()"
   ]
  },
  {
   "cell_type": "markdown",
   "id": "3ad43320-97e3-4796-b537-21aeaf6575d5",
   "metadata": {
    "tags": []
   },
   "source": [
    "### Out-of-distribution: u0 scale"
   ]
  },
  {
   "cell_type": "code",
   "execution_count": null,
   "id": "b2340fe9-d6a0-457f-bf78-393f530a317a",
   "metadata": {
    "collapsed": true,
    "jupyter": {
     "outputs_hidden": true
    },
    "tags": []
   },
   "outputs": [],
   "source": [
    "mses = {}\n",
    "mses_25 = {}\n",
    "mses_50 = {}\n",
    "mses_75 = {}\n",
    "\n",
    "save_key = 12\n",
    "ood_factors = np.array([1/16, 1/4, 1, 4, 16])\n",
    "\n",
    "for ood_factor in ood_factors:\n",
    "    mse, eval_out = eval_ood(save_key, \"u0_scale\", ood_factor)\n",
    "    mse_batch = torch.mean(eval_out, dim=list(range(1, len(eval_out.shape)))).detach().cpu().numpy()\n",
    "    mse_25 = np.percentile(mse_batch, 25, axis=-1)\n",
    "    mse_75 = np.percentile(mse_batch, 75, axis=-1)\n",
    "    mse_50 = np.median(mse_batch, axis=-1)\n",
    "    \n",
    "    mses[ood_factor] = mse\n",
    "    mses_25[ood_factor] = mse_25\n",
    "    mses_50[ood_factor] = mse_50\n",
    "    mses_75[ood_factor] = mse_75"
   ]
  },
  {
   "cell_type": "code",
   "execution_count": null,
   "id": "bc6888e1-17ae-44e1-b5fc-7d9b990c41f9",
   "metadata": {
    "tags": []
   },
   "outputs": [],
   "source": [
    "# Plot\n",
    "plt.figure(figsize=(12,12))\n",
    "plt.plot(ood_factors, list(mses_50[ood_factor] for ood_factor in ood_factors), marker=\"o\", color=\"black\", markersize=12, linewidth=2)\n",
    "plt.fill_between(ood_factors, list(mses_25[ood_factor] for ood_factor in ood_factors), list(mses_75[ood_factor] for ood_factor in ood_factors), color='black', alpha=0.2)\n",
    "plt.title(\"OOD Initial Conditions\", fontsize=32)\n",
    "plt.xlabel(\"Initial Conditions Scale\", fontsize=32)\n",
    "plt.xscale(\"log\")\n",
    "plt.ylabel(\"MSE\", fontsize=32)\n",
    "plt.yscale(\"log\")\n",
    "plt.grid(True, which='both', linestyle='--', linewidth=0.5)\n",
    "plt.xticks(fontsize=24)\n",
    "plt.yticks(fontsize=24)\n",
    "plt.savefig(os.path.join(save_dir, \"iclodes_attn_initial.png\"))\n",
    "plt.show()"
   ]
  },
  {
   "cell_type": "markdown",
   "id": "7edcf08a-f80e-48a4-b1c6-0e1f835e1691",
   "metadata": {},
   "source": [
    "### Gradient descent and least squares"
   ]
  },
  {
   "cell_type": "code",
   "execution_count": null,
   "id": "ebed410d-95cd-4a3f-b8f9-9ff3d3299e4e",
   "metadata": {
    "tags": []
   },
   "outputs": [],
   "source": [
    "from src.datagen.main.odes import ODEOperatorSampler\n",
    "\n",
    "# Load gradient descent model\n",
    "gd_model, gd_conf, gd_data_sampler, gd_task, gd_metric, gd_eval_metric = get_model(\"gd\", run_paths=gd_run_paths)\n",
    "\n",
    "# Load ODE task\n",
    "_, _, _, ode_task, _, _ = get_model_ood(12, ood_key=\"gp_length\", ood_factor=1)\n",
    "\n",
    "# Set batch size, number of points, and number of dimensions (hardcoded from default ODE config)\n",
    "batch_size = 5\n",
    "L = 26\n",
    "D = 20"
   ]
  },
  {
   "cell_type": "code",
   "execution_count": 21,
   "id": "f1836795-aa18-4902-a5e1-ff65a7d92e47",
   "metadata": {
    "tags": []
   },
   "outputs": [],
   "source": [
    "# Compute grad (requires setting L)\n",
    "def get_ls_grad(A, b, x_init, L=L):\n",
    "    grad_true = torch.einsum(\n",
    "        \"bld,bl->bd\",\n",
    "        A,\n",
    "        torch.einsum(\"bld,bd->bl\", A, x_init) - b\n",
    "    ).to(device=device) / (L-1)\n",
    "    return grad_true\n",
    "\n",
    "def get_ls_grad_pred(model, A, b, x_init):\n",
    "    # Prompting\n",
    "    gd_xs = torch.zeros((A.shape[0], L, D+3), device=device)\n",
    "    gd_xs[:, 0, :-1] = x_init\n",
    "    gd_xs[:, 1:, :-1] = A\n",
    "    gd_xs[:, 1:, -1] = b\n",
    "\n",
    "    # Predict gradient\n",
    "    with torch.no_grad():\n",
    "        grad_pred = model(gd_xs)[:, -1, :D+2].to(device=device)\n",
    "        \n",
    "    return grad_pred"
   ]
  },
  {
   "cell_type": "code",
   "execution_count": 22,
   "id": "73ccdd3a-8df1-4d6f-8723-f6b39709831d",
   "metadata": {
    "tags": []
   },
   "outputs": [],
   "source": [
    "def gradient_descent(A, b, A_q, b_q, num_iters=10000, lr=0.01, noise_std=0, model=None, setting=\"pred\", num_increasing=500):\n",
    "    \n",
    "    min_losses = []\n",
    "    \n",
    "    for i in range(batch_size):\n",
    "        \n",
    "        x_init = torch.zeros(1, D+2).to(device=device)\n",
    "        loss = float(\"inf\")\n",
    "        min_loss = float(\"inf\")\n",
    "        increasing_counter = 0\n",
    "\n",
    "        for iter_i in range(num_iters):\n",
    "            \n",
    "            if setting == \"pred\":\n",
    "                assert model is not None\n",
    "                grad_true = get_ls_grad_pred(model, A[i:i+1], b[i:i+1], x_init)\n",
    "            else:\n",
    "                grad_true = get_ls_grad(A[i:i+1], b[i:i+1], x_init)\n",
    "\n",
    "            grad_true += noise_std * torch.randn_like(grad_true)\n",
    "            x_init -= lr * grad_true\n",
    "\n",
    "            loss = (torch.einsum('bd,bd->b', x_init, A_q[i:i+1]) - b_q[i:i+1]).square()\n",
    "            if loss.mean().item() < min_loss:\n",
    "                min_loss = loss.mean().item()\n",
    "            else:\n",
    "                increasing_counter += 1\n",
    "            if increasing_counter >= num_increasing:\n",
    "                break\n",
    "\n",
    "            if iter_i % 100 == 0:\n",
    "                print(f\"Iter {iter_i}: loss {loss.mean().item()}\")\n",
    "                \n",
    "        min_losses.append(min_loss)\n",
    "\n",
    "    min_losses = np.array(min_losses)\n",
    "    mse_25 = np.percentile(min_losses, 25, axis=-1)\n",
    "    mse_75 = np.percentile(min_losses, 75, axis=-1)\n",
    "    mse_50 = np.median(min_losses, axis=-1)\n",
    "\n",
    "    return [mse_25, mse_50, mse_75]\n",
    "        "
   ]
  },
  {
   "cell_type": "code",
   "execution_count": 23,
   "id": "458a87e2-0729-446f-9135-ede111d8cf6d",
   "metadata": {
    "tags": []
   },
   "outputs": [],
   "source": [
    "def least_squares_solvers(ode_task_data, gd_num_iters=100000, gd_lr=0.03):\n",
    "    ode_xs, ode_ys = ode_task_data[\"in\"], ode_task_data[\"out\"]\n",
    "    \n",
    "    # Convert into least squares\n",
    "    A = ode_xs[:, :-1, :-1].to(device=device) # (B, L, D)\n",
    "    b = ode_xs[:, :-1, -1].to(device=device) # (B, L)\n",
    "    A_q = ode_xs[:, -1, :-1].to(device=device) # (B, D)\n",
    "    b_q = ode_ys.flatten().to(device=device) # (B)\n",
    "    \n",
    "    # Least squares\n",
    "    x_ls_pred, _, _, _ = torch.linalg.lstsq(\n",
    "        A.cpu(), b.cpu(), driver=\"gelsd\",\n",
    "    )\n",
    "    x_ls_pred = x_ls_pred.to(device=device).reshape((batch_size, -1))\n",
    "    mse_ls = (torch.einsum(\"bd,bd->b\", x_ls_pred, A_q) - b_q).square().detach().cpu().numpy() # (B)\n",
    "    mse_ls_25 = np.percentile(mse_ls, 25, axis=-1)\n",
    "    mse_ls_75 = np.percentile(mse_ls, 75, axis=-1)\n",
    "    mse_ls_50 = np.median(mse_ls, axis=-1)\n",
    "\n",
    "    # Gradient descent\n",
    "    mses_gdpred = gradient_descent(A, b, A_q, b_q, num_iters=gd_num_iters, lr=gd_lr, model=gd_model, setting=\"pred\")\n",
    "    mses_gdtrue = gradient_descent(A, b, A_q, b_q, num_iters=gd_num_iters, lr=gd_lr, model=None, setting=\"true\")\n",
    "    \n",
    "    out_dict = {\n",
    "        \"ls\": [mse_ls_25, mse_ls_50, mse_ls_75],\n",
    "        \"gdpred\": mses_gdpred,\n",
    "        \"gdtrue\": mses_gdtrue,\n",
    "    }\n",
    "    return out_dict"
   ]
  },
  {
   "cell_type": "code",
   "execution_count": 24,
   "id": "cedf9a0a-9f22-44eb-8595-b29f2e10932f",
   "metadata": {
    "tags": []
   },
   "outputs": [],
   "source": [
    "def eval_ood_least_squares(ood_key=None, ood_factor=1, gd_lr=0.05):\n",
    "    # Define sampler\n",
    "    ode_data_sampler = ODEOperatorSampler(\n",
    "        n_dims=D,\n",
    "        c_sampling=\"equispaced\", # equispaced, cheb, randt\n",
    "        eqn_class=1,\n",
    "        operator_scale=0.1*ood_factor if ood_key==\"operator_scale\" else 0.1,\n",
    "        gp_length=ood_factor if ood_key==\"gp_length\" else 1,\n",
    "        u0_scale=ood_factor if ood_key==\"u0_scale\" else 1,\n",
    "        seed=0,\n",
    "        device=\"cuda\",\n",
    "    )\n",
    "\n",
    "    # Sample\n",
    "    ode_data = ode_data_sampler.sample(\n",
    "        batch_size=batch_size,\n",
    "        n_points=L,\n",
    "        n_dims_truncated=D,\n",
    "    )\n",
    "    \n",
    "    # Write task data\n",
    "    ode_task_data = ode_task.evaluate(ode_data)\n",
    "    \n",
    "    # Eval\n",
    "    out_dict = least_squares_solvers(ode_task_data, gd_lr=0.01)\n",
    "\n",
    "    # Transformer\n",
    "    mse, eval_out = eval_ood(save_key, ood_key, ood_factor)\n",
    "    mse_batch = torch.mean(eval_out, dim=list(range(1, len(eval_out.shape)))).detach().cpu().numpy()\n",
    "    mse_25 = np.percentile(mse_batch, 25, axis=-1)\n",
    "    mse_75 = np.percentile(mse_batch, 75, axis=-1)\n",
    "    mse_50 = np.median(mse_batch, axis=-1)\n",
    "    out_dict[\"attn\"] = [mse_25, mse_50, mse_75]\n",
    "\n",
    "    return out_dict"
   ]
  },
  {
   "cell_type": "code",
   "execution_count": null,
   "id": "e1de4ab9-94b0-4700-8257-6c86ce64ab22",
   "metadata": {
    "collapsed": true,
    "jupyter": {
     "outputs_hidden": true
    },
    "tags": []
   },
   "outputs": [],
   "source": [
    "# Run gradient descent and least squares\n",
    "ode_dict = eval_ood_least_squares(ood_key=None, ood_factor=1, gd_lr=0.05)"
   ]
  },
  {
   "cell_type": "markdown",
   "id": "8ea6e820",
   "metadata": {},
   "source": [
    "### Plot: in-distribution Transformer, BaseConv, GD, and least squares"
   ]
  },
  {
   "cell_type": "code",
   "execution_count": null,
   "id": "d5d5c27d",
   "metadata": {},
   "outputs": [],
   "source": [
    "key_dict = {\n",
    "    \"attn\": \"Transformer\",\n",
    "    \"ls\": \"Least squares\",\n",
    "    \"gdpred\": \"BaseConv\", \n",
    "    \"gdtrue\": \"GD\",\n",
    "}\n",
    "\n",
    "color_dict = {\n",
    "    \"attn\": \"orange\",\n",
    "    \"ls\": \"green\",\n",
    "    \"gdpred\": \"blue\",\n",
    "    \"gdtrue\": \"grey\",\n",
    "}\n",
    "\n",
    "plt.figure(figsize=(12,12))\n",
    "\n",
    "# Plot each method\n",
    "x = np.arange(len(ode_dict))\n",
    "for i, (method, values) in enumerate(ode_dict.items()):\n",
    "    median = values[1]\n",
    "    lower = values[0]\n",
    "    upper = values[2]\n",
    "    \n",
    "    plt.errorbar(i, median, yerr=[[median-lower], [upper-median]],\n",
    "                fmt='o', capsize=12, capthick=5,\n",
    "                markersize=24,\n",
    "                color=color_dict[method], \n",
    "                label=key_dict[method],\n",
    "                linewidth=5,\n",
    "                markeredgewidth=4)\n",
    "\n",
    "plt.yscale('log')\n",
    "plt.grid(True, which='both', linestyle='--', linewidth=1.0)\n",
    "plt.xticks(x, [key_dict[k] for k in ode_dict.keys()], rotation=45, fontsize=24)\n",
    "plt.yticks(fontsize=24)\n",
    "plt.ylabel('MSE', fontsize=32)\n",
    "plt.title('Error Comparison', fontsize=32)\n",
    "plt.legend(fontsize=24, markerscale=0.5)\n",
    "plt.tight_layout()\n",
    "plt.savefig(os.path.join(save_dir, \"iclodes_all_indistribution.png\"))\n",
    "plt.show()"
   ]
  },
  {
   "cell_type": "code",
   "execution_count": null,
   "id": "ab5436e3",
   "metadata": {},
   "outputs": [],
   "source": []
  }
 ],
 "metadata": {
  "kernelspec": {
   "display_name": "icl_odes_dev",
   "language": "python",
   "name": "python3"
  },
  "language_info": {
   "codemirror_mode": {
    "name": "ipython",
    "version": 3
   },
   "file_extension": ".py",
   "mimetype": "text/x-python",
   "name": "python",
   "nbconvert_exporter": "python",
   "pygments_lexer": "ipython3",
   "version": "3.9.19"
  }
 },
 "nbformat": 4,
 "nbformat_minor": 5
}
